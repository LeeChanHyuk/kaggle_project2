{
 "cells": [
  {
   "cell_type": "code",
   "execution_count": 1,
   "id": "aa4cbe53-9617-4832-8bf1-c6a55cc9ddfd",
   "metadata": {},
   "outputs": [],
   "source": [
    "import os\n",
    "import pandas as pd\n",
    "import numpy as np\n",
    "import cv2"
   ]
  },
  {
   "cell_type": "code",
   "execution_count": 2,
   "id": "5845a3f9-909a-42ce-a257-658d1fd2655e",
   "metadata": {},
   "outputs": [],
   "source": [
    "train_path = 'E:/Petfinder_data/previous_csv/train_holdout.csv'\n",
    "test_path = 'E:/Petfinder_data/previous_csv/test_holdout.csv'\n",
    "dataset_path = 'E:/Petfinder_data/petfinder-adoption-prediction/train_images'\n",
    "train_csv = pd.read_csv(train_path)\n",
    "test_csv = pd.read_csv(test_path)"
   ]
  },
  {
   "cell_type": "code",
   "execution_count": 3,
   "id": "65dc0b1e-4a13-48ff-9f86-e08d5465dd76",
   "metadata": {},
   "outputs": [],
   "source": [
    "train_petid = train_csv['PetID']\n",
    "train_speed = train_csv['AdoptionSpeed']\n",
    "test_petid = test_csv['PetID']\n",
    "test_speed = test_csv['AdoptionSpeed']"
   ]
  },
  {
   "cell_type": "code",
   "execution_count": 4,
   "id": "d7ab57f1-5948-486b-9a49-3907abb3b8cb",
   "metadata": {},
   "outputs": [
    {
     "data": {
      "text/plain": [
       "0    6296e909a\n",
       "1    3422e4906\n",
       "2    850a43f90\n",
       "3    d24c30b4b\n",
       "4    1caa6fcdb\n",
       "Name: PetID, dtype: object"
      ]
     },
     "execution_count": 4,
     "metadata": {},
     "output_type": "execute_result"
    }
   ],
   "source": [
    "train_petid.head()"
   ]
  },
  {
   "cell_type": "code",
   "execution_count": 5,
   "id": "e8ba7c51-0a24-4b5d-86aa-9917e27f093e",
   "metadata": {},
   "outputs": [
    {
     "data": {
      "text/plain": [
       "0    0\n",
       "1    3\n",
       "2    2\n",
       "3    2\n",
       "4    1\n",
       "Name: AdoptionSpeed, dtype: int64"
      ]
     },
     "execution_count": 5,
     "metadata": {},
     "output_type": "execute_result"
    }
   ],
   "source": [
    "train_speed.head()"
   ]
  },
  {
   "cell_type": "code",
   "execution_count": 6,
   "id": "21b1b250-83e0-438e-bc1a-07cc3170409d",
   "metadata": {},
   "outputs": [
    {
     "name": "stdout",
     "output_type": "stream",
     "text": [
      "266\n",
      "287\n",
      "311\n",
      "782\n",
      "1065\n",
      "1084\n",
      "1304\n",
      "1442\n",
      "1455\n",
      "1493\n",
      "1503\n",
      "1863\n",
      "1910\n",
      "2100\n",
      "2144\n",
      "2429\n",
      "2810\n",
      "3068\n",
      "4362\n",
      "4399\n",
      "4492\n",
      "4706\n",
      "5039\n",
      "5306\n",
      "5384\n",
      "5896\n",
      "6347\n",
      "6523\n",
      "6886\n",
      "7268\n",
      "7300\n",
      "7406\n",
      "7525\n",
      "7680\n",
      "7783\n",
      "8245\n",
      "8776\n",
      "8903\n",
      "8931\n",
      "9079\n",
      "9130\n",
      "9356\n",
      "9540\n",
      "9759\n",
      "9762\n",
      "10046\n",
      "10131\n",
      "10246\n",
      "10376\n",
      "10638\n",
      "11092\n",
      "11320\n",
      "11681\n"
     ]
    }
   ],
   "source": [
    "train_drop_indexs = []\n",
    "speed_index = [0, 1, 2, 3, 4]\n",
    "for i in range(train_petid.shape[0]):\n",
    "    file_path = os.path.join(dataset_path, str(train_petid.iloc[i])+'-1.jpg')\n",
    "    if cv2.imread(file_path) is None or train_speed.iloc[i] not in speed_index:\n",
    "        print(i)\n",
    "        train_drop_indexs.append(i) #083f50328\n",
    "test_drop_indexs = []\n",
    "for i in range(test_petid.shape[0]):\n",
    "    file_path = os.path.join(dataset_path, str(test_petid.iloc[i])+'-1.jpg')\n",
    "    if cv2.imread(file_path) is None or test_speed.iloc[i] not in speed_index:\n",
    "        test_drop_indexs.append(i)"
   ]
  },
  {
   "cell_type": "code",
   "execution_count": 7,
   "id": "ca4b180d-7b86-45eb-b769-5cfeff16af19",
   "metadata": {},
   "outputs": [
    {
     "name": "stdout",
     "output_type": "stream",
     "text": [
      "train_drop_index 53\n",
      "test_drop_index 19\n"
     ]
    }
   ],
   "source": [
    "print(\"train_drop_index\",len(train_drop_indexs))\n",
    "print(\"test_drop_index\",len(test_drop_indexs))\n",
    "train_petid = train_petid.drop(index=train_drop_indexs)\n",
    "train_speed = train_speed.drop(index=train_drop_indexs)\n",
    "test_petid = test_petid.drop(index=test_drop_indexs)\n",
    "test_speed = test_speed.drop(index=test_drop_indexs)"
   ]
  },
  {
   "cell_type": "code",
   "execution_count": 8,
   "id": "38fc11f5-3247-457f-9020-9ce87277c1b4",
   "metadata": {},
   "outputs": [],
   "source": [
    "train_csv = pd.concat([train_petid, train_speed], axis=1)\n",
    "test_csv = pd.concat([test_petid, test_speed], axis=1)"
   ]
  },
  {
   "cell_type": "code",
   "execution_count": 9,
   "id": "53fd1972-0490-4a15-bdcf-51431e1c444e",
   "metadata": {},
   "outputs": [],
   "source": [
    "train_csv.to_csv('train_holdout2.csv')\n",
    "test_csv.to_csv('test_holdout2.csv') "
   ]
  },
  {
   "cell_type": "code",
   "execution_count": null,
   "id": "6e82dd88-d069-4fb4-8507-e104f308071f",
   "metadata": {},
   "outputs": [],
   "source": []
  }
 ],
 "metadata": {
  "kernelspec": {
   "display_name": "Python 3 (ipykernel)",
   "language": "python",
   "name": "python3"
  },
  "language_info": {
   "codemirror_mode": {
    "name": "ipython",
    "version": 3
   },
   "file_extension": ".py",
   "mimetype": "text/x-python",
   "name": "python",
   "nbconvert_exporter": "python",
   "pygments_lexer": "ipython3",
   "version": "3.8.12"
  }
 },
 "nbformat": 4,
 "nbformat_minor": 5
}
